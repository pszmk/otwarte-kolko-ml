{
 "cells": [
  {
   "cell_type": "markdown",
   "metadata": {},
   "source": [
    "Źródło: *An Empirical Model of Large-Batch Training*"
   ]
  },
  {
   "cell_type": "markdown",
   "metadata": {},
   "source": [
    "$L(\\theta) = \\mathbb{E}_{x \\sim \\rho}[L_x(\\theta)]$"
   ]
  },
  {
   "cell_type": "markdown",
   "metadata": {},
   "source": [
    "$G=\\nabla L(\\theta)$"
   ]
  },
  {
   "cell_type": "markdown",
   "metadata": {},
   "source": [
    "$\\hat{G}(\\theta) = \\frac{1}{B}\\sum_{i=1}^B \\nabla_\\theta L_{x_i}(\\theta); x_i \\sim \\rho$"
   ]
  },
  {
   "cell_type": "markdown",
   "metadata": {},
   "source": [
    "$\\argmin_\\epsilon L(\\theta - \\epsilon G) \\approx L(\\theta) - \\epsilon G^TG + \\frac{1}{2}\\epsilon^2G^THG = \\frac{G^TG}{G^THG}$"
   ]
  },
  {
   "cell_type": "markdown",
   "metadata": {},
   "source": [
    "$\\mathbb{E}[L(\\theta - \\epsilon \\hat{G})] \\approx \\mathbb{E}[L(\\theta) - \\epsilon G^T\\hat{G} + \\frac{1}{2}\\epsilon^2 \\hat{G}^TH\\hat{G}] = L(\\theta) - \\epsilon G^TG + \\frac{1}{2}\\epsilon^2 \\mathbb{E}[\\hat{G}^TH\\hat{G}]$"
   ]
  },
  {
   "cell_type": "markdown",
   "metadata": {},
   "source": [
    "$H = U^T\\Lambda^\\frac{1}{2}\\Lambda^\\frac{1}{2}U$ by spectral theorem"
   ]
  },
  {
   "cell_type": "markdown",
   "metadata": {},
   "source": [
    "$\\mathbb{E}[\\hat{G}^TH\\hat{G}] = \\mathbb{E}[(\\hat{G}^TU^T\\Lambda^\\frac{1}{2})(\\Lambda^\\frac{1}{2}U\\hat{G})] = \\mathbb{E}[(\\Lambda^\\frac{1}{2}U\\hat{G})^T(\\Lambda^\\frac{1}{2}U\\hat{G})] = tr(\\mathbb{E}[(\\Lambda^\\frac{1}{2}U\\hat{G})(\\Lambda^\\frac{1}{2}U\\hat{G})^T])$"
   ]
  },
  {
   "cell_type": "markdown",
   "metadata": {},
   "source": [
    "$tr(\\mathbb{E}[(\\Lambda^\\frac{1}{2}U\\hat{G})(\\Lambda^\\frac{1}{2}U\\hat{G})^T]) = tr(\\Lambda^\\frac{1}{2}U\\mathbb{E}[\\hat{G}\\hat{G}^T]U^T\\Lambda^\\frac{1}{2}) = tr(\\Lambda^\\frac{1}{2}U (\\Sigma(\\theta) + GG^T) U^T\\Lambda^\\frac{1}{2}) = tr(H (\\Sigma(\\theta) + GG^T)) = tr(H\\Sigma(\\theta)) + tr(HGG^T) = tr(H\\Sigma(\\theta)) + tr(U^T\\Lambda^\\frac{1}{2}\\Lambda^\\frac{1}{2}UGG^T) = tr(H\\Sigma(\\theta)) + tr(\\Lambda^\\frac{1}{2}UGG^TU^T\\Lambda^\\frac{1}{2}) = tr(H\\Sigma(\\theta)) + G^THG$"
   ]
  },
  {
   "cell_type": "code",
   "execution_count": null,
   "metadata": {
    "vscode": {
     "languageId": "plaintext"
    }
   },
   "outputs": [],
   "source": []
  },
  {
   "cell_type": "code",
   "execution_count": null,
   "metadata": {
    "vscode": {
     "languageId": "plaintext"
    }
   },
   "outputs": [],
   "source": []
  },
  {
   "cell_type": "markdown",
   "metadata": {},
   "source": []
  }
 ],
 "metadata": {
  "language_info": {
   "name": "python"
  }
 },
 "nbformat": 4,
 "nbformat_minor": 2
}
